{
 "cells": [
  {
   "cell_type": "code",
   "execution_count": 2,
   "id": "215dd111",
   "metadata": {},
   "outputs": [],
   "source": [
    "import numpy as np\n",
    "import matplotlib.pyplot as plt\n",
    "import scipy as sci\n",
    "from fermipy import utils\n",
    "import io\n",
    "import glob"
   ]
  },
  {
   "cell_type": "markdown",
   "id": "a99189d2",
   "metadata": {},
   "source": [
    "# Procurando entender como funciona a relação entre Eflux e loglikes"
   ]
  },
  {
   "cell_type": "markdown",
   "id": "40b9d81f",
   "metadata": {},
   "source": [
    "Peguntas a responder :\n",
    "  -  Uma galaxia que tem um upper limit maior que outra significa o que exatamente?\n",
    "  \n",
    "  \n",
    "  Signifiva que, o sinal detectado tem uma relação com a distribuição do x2 \"mais lenta\". Nesse sentido, um upper limit de eflux maior que outro, implica que o fluxo de energia vindo de um lugar é maior que outro. O que é okay, dado que o background não deve ser homogeneo.\n",
    "  \n",
    "  \n",
    "  -  Ter um eflux maior implplica em uma seção de choque maior?\n",
    "  \n",
    "Sim, implica com certeza.\n",
    "\n",
    "\n",
    "\n",
    "  -  De forma geral, qual a relação entre eflux e seção de Choque??"
   ]
  },
  {
   "cell_type": "markdown",
   "id": "b5e2a470",
   "metadata": {},
   "source": [
    "## a ideia é desenvolver um código que analise se os pontos estão Okay"
   ]
  },
  {
   "cell_type": "markdown",
   "id": "58ee3af0",
   "metadata": {},
   "source": [
    "Bom de forma geral, um meio de verificar a consistencia dos dados é basicamente olhando para a media dos eflux a 95%. Então essa pode ser uma primeira analise.\n",
    "\n",
    "- Ler os dados de eflux de cada galaxia para 6 e 14 anos.\n",
    "- Calulcar os valores de eflux a 95% para cada galaxia.\n",
    "- Calcular a media por bin dos dados de 6 e 14 anos\n",
    "- plotar o resultado, sendo o esperado uma media mais alta dos dados de 6 anos para os bins menores e uma media maior para os bins maiores."
   ]
  },
  {
   "cell_type": "markdown",
   "id": "7d64823d",
   "metadata": {},
   "source": [
    "### Lendo os dados de eflux para cada galaxia:"
   ]
  },
  {
   "cell_type": "code",
   "execution_count": 102,
   "id": "3e43a60a",
   "metadata": {},
   "outputs": [],
   "source": [
    "# uma maneira de fazer isso, é criando uma matriz com 15 linhas e 24 colunas. \n",
    "# uma coisa que seria interessante também seria criar um dicionario com esses valores.\n",
    "\n",
    "Lista_eflux_P8R2 = glob.glob('eflux_and_loglikes_files/P8R2_14Years_files/*_eflux_14years_P8R2.txt')\n",
    "Lista_loglikes_P8R2 = glob.glob('eflux_and_loglikes_files/P8R2_14Years_files/*_Dloglikes_14years_P8R2.txt')\n",
    "\n",
    "#--------------------------------------------------------------------#\n",
    "Lista_eflux_P8R2_6years =  glob.glob('eflux_and_loglikes_files/P8R2_6years_Files/*_eflux_6years_P8R2.txt')\n",
    "Lista_loglikes_P8R2_6years = glob.glob('eflux_and_loglikes_files/P8R2_6years_Files/*_Dloglikes_6years_P8R2.txt')"
   ]
  },
  {
   "cell_type": "markdown",
   "id": "c34438cd",
   "metadata": {},
   "source": [
    "### Calulcando os valores de eflux a 95% para cada galaxia."
   ]
  },
  {
   "cell_type": "code",
   "execution_count": 145,
   "id": "6de82038",
   "metadata": {},
   "outputs": [],
   "source": [
    "Matriz_valores  = np.zeros((15,24))"
   ]
  },
  {
   "cell_type": "code",
   "execution_count": 201,
   "id": "e07c6f81",
   "metadata": {},
   "outputs": [
    {
     "data": {
      "text/plain": [
       "['eflux_and_loglikes_files/P8R2_6years_Files/Bootes_eflux_6years_P8R2.txt',\n",
       " 'eflux_and_loglikes_files/P8R2_6years_Files/Canes_venatici_II_eflux_6years_P8R2.txt',\n",
       " 'eflux_and_loglikes_files/P8R2_6years_Files/Carina_eflux_6years_P8R2.txt',\n",
       " 'eflux_and_loglikes_files/P8R2_6years_Files/Coma_berenice_eflux_6years_P8R2.txt',\n",
       " 'eflux_and_loglikes_files/P8R2_6years_Files/Draco_eflux_6years_P8R2.txt',\n",
       " 'eflux_and_loglikes_files/P8R2_6years_Files/Fornax_eflux_6years_P8R2.txt',\n",
       " 'eflux_and_loglikes_files/P8R2_6years_Files/Hercules_eflux_6years_P8R2.txt',\n",
       " 'eflux_and_loglikes_files/P8R2_6years_Files/leo_II_eflux_6years_P8R2.txt',\n",
       " 'eflux_and_loglikes_files/P8R2_6years_Files/leo_IV_eflux_6years_P8R2.txt',\n",
       " 'eflux_and_loglikes_files/P8R2_6years_Files/Sculptor_eflux_6years_P8R2.txt',\n",
       " 'eflux_and_loglikes_files/P8R2_6years_Files/segue_1_eflux_6years_P8R2.txt',\n",
       " 'eflux_and_loglikes_files/P8R2_6years_Files/Sextans_eflux_6years_P8R2.txt',\n",
       " 'eflux_and_loglikes_files/P8R2_6years_Files/Ursa_Major_II_eflux_6years_P8R2.txt',\n",
       " 'eflux_and_loglikes_files/P8R2_6years_Files/Ursa_minor_eflux_6years_P8R2.txt',\n",
       " 'eflux_and_loglikes_files/P8R2_6years_Files/Wilma_1_eflux_6years_P8R2.txt']"
      ]
     },
     "execution_count": 201,
     "metadata": {},
     "output_type": "execute_result"
    }
   ],
   "source": [
    "Lista_eflux_P8R2_6years"
   ]
  },
  {
   "cell_type": "code",
   "execution_count": 202,
   "id": "0ad550d7",
   "metadata": {},
   "outputs": [],
   "source": [
    "Matriz_valores_6years =  np.zeros((15,24))"
   ]
  },
  {
   "cell_type": "code",
   "execution_count": 203,
   "id": "3bf75e15",
   "metadata": {},
   "outputs": [],
   "source": [
    "for i in range(len(Lista_eflux_P8R2_6years)):\n",
    "    eflux =np.loadtxt(Lista_eflux_P8R2_6years[i])\n",
    "    loglikes = np.loadtxt(Lista_loglikes_P8R2_6years[i])\n",
    "    for j in range(len(eflux)):\n",
    "        Matriz_valores_6years[i][j]= utils.get_parameter_limits(eflux[j],loglikes[j])['ul']"
   ]
  },
  {
   "cell_type": "code",
   "execution_count": 162,
   "id": "c18734f9",
   "metadata": {},
   "outputs": [],
   "source": [
    "for i in range(len(Lista_eflux_P8R2)):\n",
    "    eflux =np.loadtxt(Lista_eflux_P8R2[i])\n",
    "    loglikes = np.loadtxt(Lista_loglikes_P8R2[i])\n",
    "    for j in range(len(eflux)):\n",
    "        Matriz_valores[i][j]= utils.get_parameter_limits(eflux[j],loglikes[j])['ul']"
   ]
  },
  {
   "cell_type": "markdown",
   "id": "8f3cab88",
   "metadata": {},
   "source": [
    "### Calculando a media por bin dos dados de 6 e 14 anos\n"
   ]
  },
  {
   "cell_type": "code",
   "execution_count": 211,
   "id": "ff191245",
   "metadata": {},
   "outputs": [],
   "source": [
    "Media_6years =  Matriz_valores_6years.mean(axis=0) \n",
    "Media_14years = Matriz_valores.mean(axis=0)"
   ]
  },
  {
   "cell_type": "markdown",
   "id": "1b83ed71",
   "metadata": {},
   "source": [
    "###  plotar o resultado, sendo o esperado uma media mais alta dos dados de 6 anos para os bins menores e uma media maior para os bins maiores."
   ]
  },
  {
   "cell_type": "code",
   "execution_count": 177,
   "id": "37a74109",
   "metadata": {},
   "outputs": [],
   "source": [
    "data = np.loadtxt('likes_files/like_bootes_I.txt',unpack=True)\n",
    "emins, emaxs = np.unique(data[0]),np.unique(data[1])\n",
    "ebin = np.sqrt(emins*emaxs)"
   ]
  },
  {
   "cell_type": "code",
   "execution_count": 217,
   "id": "92f593ec",
   "metadata": {},
   "outputs": [
    {
     "data": {
      "text/plain": [
       "<matplotlib.legend.Legend at 0x7f2313ecadf0>"
      ]
     },
     "execution_count": 217,
     "metadata": {},
     "output_type": "execute_result"
    },
    {
     "data": {
      "image/png": "[encoded data removed]",
      "text/plain": [
       "<Figure size 640x480 with 1 Axes>"
      ]
     },
     "metadata": {},
     "output_type": "display_data"
    }
   ],
   "source": [
    "#plt.plot(eflux_P8R2_6year, label =' 6 anos')\n",
    "plt.plot(ebin,Media_6years, label  = ' 6 anos')\n",
    "plt.plot(ebin,Media_14years, label = '14 anos')\n",
    "plt.ylabel('Fluxo de enegia a 95% ')\n",
    "plt.title(' Media dos upper limits de fluxo de energias   ')\n",
    "plt.xlabel('Energia')\n",
    "plt.yscale('log')\n",
    "plt.xscale('log')\n",
    "plt.legend()"
   ]
  },
  {
   "cell_type": "code",
   "execution_count": null,
   "id": "eb04197f",
   "metadata": {},
   "outputs": [],
   "source": []
  }
 ],
 "metadata": {
  "kernelspec": {
   "display_name": "Python 3 (ipykernel)",
   "language": "python",
   "name": "python3"
  },
  "language_info": {
   "codemirror_mode": {
    "name": "ipython",
    "version": 3
   },
   "file_extension": ".py",
   "mimetype": "text/x-python",
   "name": "python",
   "nbconvert_exporter": "python",
   "pygments_lexer": "ipython3",
   "version": "3.9.15"
  }
 },
 "nbformat": 4,
 "nbformat_minor": 5
}
