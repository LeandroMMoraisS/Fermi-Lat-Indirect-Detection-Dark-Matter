{
 "cells": [
  {
   "cell_type": "code",
   "execution_count": 1,
   "id": "37ed5ba0",
   "metadata": {},
   "outputs": [],
   "source": [
    "import numpy as np\n",
    "import pylab as plt\n",
    "import matplotlib\n",
    "import pyLikelihood\n",
    "import os\n",
    "from fermipy.gtanalysis import GTAnalysis\n",
    "from fermipy.plotting import ROIPlotter, SEDPlotter\n",
    "from scipy.interpolate import interp1d\n",
    "from scipy.integrate import quad\n",
    "from scipy.optimize import brentq\n",
    "from scipy.optimize import minimize_scalar\n",
    "from scipy.interpolate import InterpolatedUnivariateSpline\n",
    "from scipy import interpolate\n",
    "from scipy.interpolate import UnivariateSpline\n",
    "from fermipy import utils"
   ]
  },
  {
   "cell_type": "code",
   "execution_count": 2,
   "id": "a88143d4",
   "metadata": {},
   "outputs": [
    {
     "data": {
      "text/plain": [
       "{'divide': 'warn', 'over': 'warn', 'under': 'ignore', 'invalid': 'warn'}"
      ]
     },
     "execution_count": 2,
     "metadata": {},
     "output_type": "execute_result"
    }
   ],
   "source": [
    "def eflux(spectrum, emin=1e2, emax=1e5, quiet=False):\n",
    "    \"\"\" Integrate a generic spectrum, multiplied by E, to get the energy flux.\n",
    "    \"\"\"\n",
    "    espectrum = lambda e: spectrum(e)*e\n",
    "    tol = min(espectrum(emin),espectrum(emax))*1e-10\n",
    "    try:\n",
    "        return quad(espectrum,emin,emax,epsabs=tol,full_output=True)[0]\n",
    "    except (Exception, msg):\n",
    "        print('Numerical error \"%s\" when calculating integral flux.' % msg)\n",
    "        return np.nan\n",
    "# Keep numpy from complaining about dN/dE = 0...\n",
    "np.seterr(divide='ignore',invalid='ignore')"
   ]
  },
  {
   "cell_type": "code",
   "execution_count": 3,
   "id": "abdcdf23",
   "metadata": {},
   "outputs": [],
   "source": [
    "# J-factor of Draco (*NO J-FACTOR UNCERTAINTY INCLUDED*)\n",
    "jfactor_fermi  = 10**17.8\n",
    "# Spectral file created assuming J=10^18 GeV^2/cm^5, sigmav=1e-25 cm^3/s\n",
    "j0_fermi      = jfactor_fermi\n",
    "sigmav0 = 1e-25\n",
    "delta =2.71"
   ]
  },
  {
   "cell_type": "code",
   "execution_count": 4,
   "id": "a4d44863",
   "metadata": {},
   "outputs": [],
   "source": [
    "likefile = 'likes_files/like_fornax.txt' # varialvel associada ao https://www-glast.stanford.edu/pub_data/1048/like_draco.txt\n",
    "specfile = 'spectrum_bbbar_100GeV.txt' # Esse txt conseguir em um dos primeiros artigos do fermi\n",
    "data = np.loadtxt(likefile, unpack=True)\n",
    "emins, emaxs = np.unique(data[0]),np.unique(data[1])\n",
    "ebin = np.sqrt(emins*emaxs)\n",
    "efluxes = data[2].reshape(len(emins),-1)\n",
    "logLikes = data[3].reshape(len(emins),-1)\n",
    "Spectrum =np.loadtxt(specfile,unpack=True)\n",
    "crossesctions = np.loadtxt('limits_bb.txt',unpack=True)\n",
    "mass = crossesctions[0]\n",
    "#crossection_fermi=crossesctions[44]\n"
   ]
  },
  {
   "cell_type": "code",
   "execution_count": 5,
   "id": "a08e74fa",
   "metadata": {},
   "outputs": [],
   "source": [
    "dlog_P8R2 = np.loadtxt('eflux_and_loglikes_files/P8R2_14Years_files/Fornax_Dloglikes_14years_P8R2.txt.txt')\n",
    "eflux_P8R2 = np.loadtxt('eflux_and_loglikes_files/P8R2_14Years_files/Fornax_eflux_14years_P8R2.txt')"
   ]
  },
  {
   "cell_type": "code",
   "execution_count": 6,
   "id": "31e7d7da",
   "metadata": {},
   "outputs": [],
   "source": [
    "dlog_P8R3 = np.loadtxt('eflux_and_loglikes_files/P8R3_14Years_files/Fornax_Dloglikes_14years_P8R3.txt.txt')\n",
    "eflux_P8R3 = np.loadtxt('eflux_and_loglikes_files/P8R3_14Years_files/Fornax_eflux_14years_P8R3.txt')"
   ]
  },
  {
   "cell_type": "code",
   "execution_count": 7,
   "id": "0e4a47bc",
   "metadata": {},
   "outputs": [
    {
     "data": {
      "text/plain": [
       "array([nan,  1.,  1.,  1.,  1.,  1.,  1.,  1.,  1.,  1.,  1.,  1.,  1.,\n",
       "        1.,  1.,  1.,  1.,  1.,  1.,  1.,  1.,  1.,  1.,  1.,  1.])"
      ]
     },
     "execution_count": 7,
     "metadata": {},
     "output_type": "execute_result"
    }
   ],
   "source": [
    "eflux_P8R2[0]/efluxes[0]"
   ]
  },
  {
   "cell_type": "markdown",
   "id": "53ed9ff8",
   "metadata": {},
   "source": [
    "## Spectrum Analyses"
   ]
  },
  {
   "cell_type": "markdown",
   "id": "c8072ca2",
   "metadata": {},
   "source": [
    "Fermi_spectrum_energy = np.loadtxt('1611/bin_by_bin_limits_eflux.txt')\n",
    "Fermi_energy_flux = np.zeros(24)\n",
    "for i in range(len(Fermi_energy_flux)):\n",
    "    Fermi_energy_flux[i] = Fermi_spectrum_energy[44][i]"
   ]
  },
  {
   "cell_type": "markdown",
   "id": "74ab34c3",
   "metadata": {},
   "source": [
    "eflux_95_profilef = np.zeros(24)\n",
    "for i in range( len(efluxes)):\n",
    "    limit = utils.get_parameter_limits(efluxes[i],dlog[i])\n",
    "    eflux_95_profilef[i] = limit['ul']"
   ]
  },
  {
   "cell_type": "raw",
   "id": "a0b3ac38",
   "metadata": {},
   "source": [
    "eflux_95_profile = np.zeros(24)\n",
    "for i in range( len(efluxes)):\n",
    "    limit = utils.get_parameter_limits(efluxes[i],logLikes[i])\n",
    "    eflux_95_profile[i] = limit['ul']"
   ]
  },
  {
   "cell_type": "markdown",
   "id": "ffa28dd6",
   "metadata": {},
   "source": [
    "figure = plt.figure(figsize=(12,6))\n",
    "plt.plot(ebin,Fermi_energy_flux, label = 'Fermi Result', marker ='v')\n",
    "plt.plot(ebin,eflux_95_profilef, label ='Profile_norm_Function_Result', marker= '.')\n",
    "#plt.plot(ebin,eflux_95_profile, label ='Profile_norm_Function_Result', marker= '.')\n",
    "\n",
    "#plt.plot(energia,sed_draco['eflux_ul95'], label= 'SED result', marker='v')\n",
    "\n",
    "plt.plot\n",
    "plt.title('e2(dn/de) vs Energy bin')\n",
    "plt.xlabel('Energy bin (Mev)')\n",
    "plt.ylabel(r'$e^2(\\frac{dn}{de})$')\n",
    "plt.xscale('log')\n",
    "plt.yscale('log')\n",
    "plt.text(10e4,1e-7,'Carina', style='oblique',fontsize='15')\n",
    "plt.title('eflux at 95% vs Energy bin')\n",
    "plt.legend()"
   ]
  },
  {
   "cell_type": "markdown",
   "id": "70c4b7b3",
   "metadata": {},
   "source": [
    "# Crosssection Upper Limit"
   ]
  },
  {
   "cell_type": "code",
   "execution_count": 8,
   "id": "f83d3df0",
   "metadata": {},
   "outputs": [],
   "source": [
    "crossection_mass_Fermi = np.zeros(len(mass))\n",
    "lnl_fermi_scan_Fermi = np.zeros((len(mass),5000))\n",
    "crossection_scan_Fermi= np.zeros(lnl_fermi_scan_Fermi.shape)\n",
    "k =0\n",
    "for i in mass:\n",
    "    dmf = pyLikelihood.DMFitFunction()\n",
    "    dmf.readFunction(os.path.expandvars('$FERMIPY_ROOT/data/gammamc_dif.dat'))\n",
    "    dmf.setParam('norm',jfactor_fermi)\n",
    "    dmf.setParam('sigmav',1E-25)\n",
    "    dmf.setParam('mass',i)\n",
    "    dmf.setParam('bratio',1.0)\n",
    "    dmf.setParam('channel0',4)   \n",
    "\n",
    "\n",
    "    energy = Spectrum[0] \n",
    "    dnde = np.zeros(energy.shape)\n",
    "    for j in range(len(energy)):\n",
    "        dnde[j] = dmf(pyLikelihood.dArg(energy[j]))\n",
    "    \n",
    "    log_energy = np.log10(energy)# Transforma energia para log\n",
    "    log_dnde = np.log10(dnde)# Transforma Espectro para log\n",
    "    log_interp = interp1d(log_energy,log_dnde) # Cria função de Interpolação entre energia e espectro\n",
    "    spectrum = lambda e: np.nan_to_num(10**( log_interp(np.log10(e)) ))# Retorna um Valor de dn/de para um valor de energia\n",
    "    \n",
    "    pred = np.array([eflux(spectrum,e1,e2) for e1,e2 in zip(emins,emaxs)])  # Retorna o Eflux esperado por Bin\n",
    "    likes = [ interp1d(f,l-l.max(), fill_value='extrapolate') for f,l in zip(efluxes,logLikes)] \n",
    "    like = lambda c: sum([lnlfn(c*p) for lnlfn,p in zip(likes,pred)])\n",
    "    \n",
    "    epsilon = 1e-4 # Just to make sure we stay within the interpolation range\n",
    "    xmin =  epsilon \n",
    "    xmax = np.log10(efluxes.max()/efluxes[efluxes>0].min()) - epsilon \n",
    "    x = np.logspace(xmin,xmax,5000) \n",
    "    \n",
    "    norm0 = efluxes[efluxes>0].min() / pred.max() # Cria um valor de normalização\n",
    "    norms = norm0 * x # normaliza o scan range \n",
    "    \n",
    "    lnl_fermi = np.array([like(n) for n in norms])\n",
    "    lnl_fermi_scan_Fermi[k] =lnl_fermi\n",
    "    lnl_fermi_normalizada = lnl_fermi -lnl_fermi.max()\n",
    "    \n",
    "    # Convert global log-likelihood back into physical units\n",
    "    sigmav = j0_fermi/jfactor_fermi * sigmav0 * norms\n",
    "    crossection_scan_Fermi[k] =sigmav\n",
    "    mle = np.argmax(lnl_fermi_normalizada)\n",
    "    lnlfn = interp1d(lnl_fermi_normalizada[mle:],sigmav[mle:])\n",
    "    delta = 2.71/2\n",
    "    limit = lnlfn(-delta)\n",
    "    crossection_mass_Fermi[k] = float(limit)\n",
    "    k= k+1  \n",
    "    "
   ]
  },
  {
   "cell_type": "code",
   "execution_count": 9,
   "id": "95de97a9",
   "metadata": {},
   "outputs": [],
   "source": [
    "crossection_mass_P8R2 = np.zeros(len(mass))\n",
    "lnl_fermi_scan_P8R2 = np.zeros((len(mass),5000))\n",
    "crossection_scan_P8R2= np.zeros(lnl_fermi_scan_P8R2.shape)\n",
    "k =0\n",
    "for i in mass:\n",
    "    dmf = pyLikelihood.DMFitFunction()\n",
    "    dmf.readFunction(os.path.expandvars('$FERMIPY_ROOT/data/gammamc_dif.dat'))\n",
    "    dmf.setParam('norm',jfactor_fermi)\n",
    "    dmf.setParam('sigmav',1E-25)\n",
    "    dmf.setParam('mass',i)\n",
    "    dmf.setParam('bratio',1.0)\n",
    "    dmf.setParam('channel0',4)   \n",
    "\n",
    "\n",
    "    energy = Spectrum[0] \n",
    "    dnde = np.zeros(energy.shape)\n",
    "    for j in range(len(energy)):\n",
    "        dnde[j] = dmf(pyLikelihood.dArg(energy[j]))\n",
    "    \n",
    "    log_energy = np.log10(energy)# Transforma energia para log\n",
    "    log_dnde = np.log10(dnde)# Transforma Espectro para log\n",
    "    log_interp = interp1d(log_energy,log_dnde) # Cria função de Interpolação entre energia e espectro\n",
    "    spectrum = lambda e: np.nan_to_num(10**( log_interp(np.log10(e)) ))# Retorna um Valor de dn/de para um valor de energia\n",
    "    \n",
    "    pred = np.array([eflux(spectrum,e1,e2) for e1,e2 in zip(emins,emaxs)])  # Retorna o Eflux esperado por Bin\n",
    "    likes = [ interp1d(f,l-l.max(), fill_value='extrapolate') for f,l in zip(eflux_P8R2,dlog_P8R2)] \n",
    "    like = lambda c: sum([lnlfn(c*p) for lnlfn,p in zip(likes,pred)])\n",
    "    \n",
    "    epsilon = 1e-4 # Just to make sure we stay within the interpolation range\n",
    "    xmin =  epsilon \n",
    "    xmax = np.log10(efluxes.max()/efluxes[efluxes>0].min()) - epsilon \n",
    "    x = np.logspace(xmin,xmax,5000) \n",
    "    \n",
    "    norm0 = efluxes[efluxes>0].min() / pred.max() # Cria um valor de normalização\n",
    "    norms = norm0 * x # normaliza o scan range \n",
    "    \n",
    "    lnl_fermi = np.array([like(n) for n in norms])\n",
    "    lnl_fermi_scan_P8R2[k] =lnl_fermi\n",
    "    lnl_fermi_normalizada = lnl_fermi -lnl_fermi.max()\n",
    "    \n",
    "    # Convert global log-likelihood back into physical units\n",
    "    sigmav = j0_fermi/jfactor_fermi * sigmav0 * norms\n",
    "    crossection_scan_P8R2[k] =sigmav\n",
    "    mle = np.argmax(lnl_fermi_normalizada)\n",
    "    lnlfn = interp1d(lnl_fermi_normalizada[mle:],sigmav[mle:])\n",
    "    delta = 2.71/2\n",
    "    limit = lnlfn(-delta)\n",
    "    crossection_mass_P8R2[k] = float(limit)\n",
    "    k= k+1  \n",
    "    "
   ]
  },
  {
   "cell_type": "code",
   "execution_count": 10,
   "id": "7330d6a9",
   "metadata": {},
   "outputs": [],
   "source": [
    "crossection_mass_P8R3 = np.zeros(len(mass))\n",
    "lnl_fermi_scan_P8R3 = np.zeros((len(mass),5000))\n",
    "crossection_scan_P8R3= np.zeros(lnl_fermi_scan_P8R3.shape)\n",
    "k =0\n",
    "for i in mass:\n",
    "    dmf = pyLikelihood.DMFitFunction()\n",
    "    dmf.readFunction(os.path.expandvars('$FERMIPY_ROOT/data/gammamc_dif.dat'))\n",
    "    dmf.setParam('norm',jfactor_fermi)\n",
    "    dmf.setParam('sigmav',1E-25)\n",
    "    dmf.setParam('mass',i)\n",
    "    dmf.setParam('bratio',1.0)\n",
    "    dmf.setParam('channel0',4)   \n",
    "\n",
    "\n",
    "    energy = Spectrum[0] \n",
    "    dnde = np.zeros(energy.shape)\n",
    "    for j in range(len(energy)):\n",
    "        dnde[j] = dmf(pyLikelihood.dArg(energy[j]))\n",
    "    \n",
    "    log_energy = np.log10(energy)# Transforma energia para log\n",
    "    log_dnde = np.log10(dnde)# Transforma Espectro para log\n",
    "    log_interp = interp1d(log_energy,log_dnde) # Cria função de Interpolação entre energia e espectro\n",
    "    spectrum = lambda e: np.nan_to_num(10**( log_interp(np.log10(e)) ))# Retorna um Valor de dn/de para um valor de energia\n",
    "    \n",
    "    pred = np.array([eflux(spectrum,e1,e2) for e1,e2 in zip(emins,emaxs)])  # Retorna o Eflux esperado por Bin\n",
    "    likes = [ interp1d(f,l-l.max(), fill_value='extrapolate') for f,l in zip(eflux_P8R3,dlog_P8R3)] \n",
    "    like = lambda c: sum([lnlfn(c*p) for lnlfn,p in zip(likes,pred)])\n",
    "    \n",
    "    epsilon = 1e-4 # Just to make sure we stay within the interpolation range\n",
    "    xmin =  epsilon \n",
    "    xmax = np.log10(efluxes.max()/efluxes[efluxes>0].min()) - epsilon \n",
    "    x = np.logspace(xmin,xmax,5000) \n",
    "    \n",
    "    norm0 = efluxes[efluxes>0].min() / pred.max() # Cria um valor de normalização\n",
    "    norms = norm0 * x # normaliza o scan range \n",
    "    \n",
    "    lnl_fermi = np.array([like(n) for n in norms])\n",
    "    lnl_fermi_scan_P8R3[k] =lnl_fermi\n",
    "    lnl_fermi_normalizada = lnl_fermi -lnl_fermi.max()\n",
    "    \n",
    "    # Convert global log-likelihood back into physical units\n",
    "    sigmav = j0_fermi/jfactor_fermi * sigmav0 * norms\n",
    "    crossection_scan_P8R3[k] =sigmav\n",
    "    mle = np.argmax(lnl_fermi_normalizada)\n",
    "    lnlfn = interp1d(lnl_fermi_normalizada[mle:],sigmav[mle:])\n",
    "    delta = 2.71/2\n",
    "    limit = lnlfn(-delta)\n",
    "    crossection_mass_P8R3[k] = float(limit)\n",
    "    k= k+1  \n",
    "    "
   ]
  },
  {
   "cell_type": "code",
   "execution_count": 11,
   "id": "2d171811",
   "metadata": {},
   "outputs": [],
   "source": [
    "six_years_P8R2 =  np.loadtxt('Crossections_and_loglkes_files/Upper_limits_6years_P8R2/crossection_mass_Fornax.txt')\n",
    "six_years_P8R3 =  np.loadtxt('Crossections_and_loglkes_files/Upper_limits_6years_P8R3/crossection_mass_Fornax.txt')\n",
    "lnl_six_years_P8R2 = np.loadtxt('Crossections_and_loglkes_files/Upper_limits_6years_P8R2/lnl_fermi_scan_Fornax.txt')\n",
    "lnl_six_years_P8R3 = np.loadtxt('Crossections_and_loglkes_files/Upper_limits_6years_P8R3/lnl_fermi_scan_Fornax.txt')"
   ]
  },
  {
   "cell_type": "code",
   "execution_count": 12,
   "id": "7f656b5b",
   "metadata": {},
   "outputs": [
    {
     "data": {
      "text/plain": [
       "array([6.62921587e-28, 6.64679602e-28, 6.66442280e-28, ...,\n",
       "       3.70648102e-22, 3.71631031e-22, 3.72616567e-22])"
      ]
     },
     "execution_count": 12,
     "metadata": {},
     "output_type": "execute_result"
    }
   ],
   "source": [
    "six_years_P8R2[0]"
   ]
  },
  {
   "cell_type": "code",
   "execution_count": 13,
   "id": "49f0ad08",
   "metadata": {},
   "outputs": [],
   "source": [
    "Crossection_P8R2 = np.zeros(len(crossection_mass_P8R3))\n",
    "Crossection_P8R3 = np.zeros(len(crossection_mass_P8R3))\n",
    "for i in range(len(six_years_P8R2)):\n",
    "  Crossection_P8R2[i] = utils.get_parameter_limits(six_years_P8R2[i],lnl_six_years_P8R2[i])['ul']\n",
    "  Crossection_P8R3[i] = utils.get_parameter_limits(six_years_P8R3[i],lnl_six_years_P8R3[i])['ul']"
   ]
  },
  {
   "cell_type": "code",
   "execution_count": 19,
   "id": "ea417e7d",
   "metadata": {},
   "outputs": [
    {
     "data": {
      "text/plain": [
       "<matplotlib.legend.Legend at 0x7f81ebb38970>"
      ]
     },
     "execution_count": 19,
     "metadata": {},
     "output_type": "execute_result"
    },
    {
     "data": {
      "image/png": "[encoded data removed]",
      "text/plain": [
       "<Figure size 1200x600 with 1 Axes>"
      ]
     },
     "metadata": {},
     "output_type": "display_data"
    }
   ],
   "source": [
    "fig =plt.figure(figsize=(12,6))\n",
    "#plt.plot(mass,crossection_mass_P8R2, label = '14 years P8R2')\n",
    "#plt.plot(mass,Crossection_P8R2,label= 'six_years_P8R2')\n",
    "plt.plot(mass,Crossection_P8R3, label = 'six_years_P8R3')\n",
    "plt.plot(mass,crossection_mass_P8R3, label = '14 Years P8R3 ')\n",
    "#plt.plot(mass,crossesctions[14], label = 'Arxiv :1611 - Fermi 2015')\n",
    "#plt.plot(mass,crossection_mass_Fermi, label ='Arxiv :1611 - Fermi 2015 without J factor')\n",
    "plt.xlabel('mass (Gev)')\n",
    "plt.ylabel('Cross Section upper limit at 95%')\n",
    "plt.title('Crossections vs Mass')\n",
    "plt.xscale('log')\n",
    "plt.yscale('log')\n",
    "plt.text(2.5e3,1e-25,'Fornax', style='oblique',fontsize='15')\n",
    "plt.legend()"
   ]
  },
  {
   "cell_type": "code",
   "execution_count": 15,
   "id": "6757a9eb",
   "metadata": {},
   "outputs": [],
   "source": [
    "np.savetxt('Crossections_and_loglkes_files/Upper_limits_14years_P8R2/lnl_fermi_scan_Draco.txt',lnl_fermi_scan_P8R2)\n",
    "np.savetxt('Crossections_and_loglkes_files/Upper_limits_14years_P8R2/crossection_mass_Draco.txt',crossection_scan_P8R2)"
   ]
  },
  {
   "cell_type": "code",
   "execution_count": 16,
   "id": "ad71cba0",
   "metadata": {},
   "outputs": [],
   "source": [
    "np.savetxt('Crossections_and_loglkes_files/Upper_limits_14years_P8R3/lnl_fermi_scan_Draco.txt',lnl_fermi_scan_P8R3)\n",
    "np.savetxt('Crossections_and_loglkes_files/Upper_limits_14years_P8R3/crossection_mass_Draco.txt',crossection_scan_P8R3)"
   ]
  },
  {
   "cell_type": "code",
   "execution_count": null,
   "id": "346a01d1",
   "metadata": {},
   "outputs": [],
   "source": []
  }
 ],
 "metadata": {
  "kernelspec": {
   "display_name": "Python 3 (ipykernel)",
   "language": "python",
   "name": "python3"
  },
  "language_info": {
   "codemirror_mode": {
    "name": "ipython",
    "version": 3
   },
   "file_extension": ".py",
   "mimetype": "text/x-python",
   "name": "python",
   "nbconvert_exporter": "python",
   "pygments_lexer": "ipython3",
   "version": "3.9.15"
  }
 },
 "nbformat": 4,
 "nbformat_minor": 5
}
